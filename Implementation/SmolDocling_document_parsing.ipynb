{
 "cells": [
  {
   "cell_type": "code",
   "execution_count": null,
   "metadata": {
    "colab": {
     "base_uri": "https://localhost:8080/"
    },
    "executionInfo": {
     "elapsed": 70151,
     "status": "ok",
     "timestamp": 1744962200648,
     "user": {
      "displayName": "ANUBHAV KUMAR SAURAV",
      "userId": "08904774364082183574"
     },
     "user_tz": -330
    },
    "id": "6IqntdyAGZ3G",
    "outputId": "2f79320f-9dc0-4a79-d06e-55c9e55ab043"
   },
   "outputs": [],
   "source": [
    "#install the transformers package for SmolDocling model\n",
    "!pip install transformers torch docling_core"
   ]
  },
  {
   "cell_type": "code",
   "execution_count": null,
   "metadata": {
    "colab": {
     "base_uri": "https://localhost:8080/",
     "height": 470
    },
    "executionInfo": {
     "elapsed": 3841,
     "status": "ok",
     "timestamp": 1744967080475,
     "user": {
      "displayName": "ANUBHAV KUMAR SAURAV",
      "userId": "08904774364082183574"
     },
     "user_tz": -330
    },
    "id": "_ohsTWkpHpqu",
    "outputId": "2f795dff-0a72-43a0-ba3a-261419b41bca"
   },
   "outputs": [],
   "source": [
    "# Imports PIL module and Google drive libraries to mount iot\n",
    "import urllib.request\n",
    "from PIL import Image\n",
    "import os\n",
    "import matplotlib.pyplot as plt\n",
    "\n",
    "from google.colab import drive\n",
    "drive.mount('/content/drive')\n",
    "os.chdir('/content/drive/My Drive/Colab Notebooks/Logbook_Dataset/RTS')\n",
    "image = Image.open('N040.jpg')\n",
    "plt.imshow(image)"
   ]
  },
  {
   "cell_type": "code",
   "execution_count": null,
   "metadata": {
    "colab": {
     "base_uri": "https://localhost:8080/",
     "height": 435
    },
    "executionInfo": {
     "elapsed": 6656,
     "status": "ok",
     "timestamp": 1744967093434,
     "user": {
      "displayName": "ANUBHAV KUMAR SAURAV",
      "userId": "08904774364082183574"
     },
     "user_tz": -330
    },
    "id": "XCsmowNNGfmf",
    "outputId": "6583e770-0a56-4e0e-f564-3143f407e95f"
   },
   "outputs": [],
   "source": [
    "import torch\n",
    "from docling_core.types.doc import DoclingDocument\n",
    "from docling_core.types.doc.document import DocTagsDocument\n",
    "from transformers import AutoProcessor, AutoModelForVision2Seq\n",
    "from transformers.image_utils import load_image\n",
    "\n",
    "DEVICE = \"cuda\" if torch.cuda.is_available() else \"cpu\"\n",
    "\n",
    "# Load images\n",
    "\n",
    "#os.chdir('/content/drive/My Drive/Colab Notebooks/Logbook_Dataset/RTS')\n",
    "#image = Image.open('N001.jpg')\n",
    "plt.imshow(image)\n",
    "#image = load_image(\"sample.png\")\n",
    "\n",
    "# Initialize processor and model\n",
    "processor = AutoProcessor.from_pretrained(\"ds4sd/SmolDocling-256M-preview\")\n",
    "model = AutoModelForVision2Seq.from_pretrained(\"ds4sd/SmolDocling-256M-preview\",\n",
    "    torch_dtype=torch.bfloat16  # for gpu that does not supports flash attention\n",
    ").to(DEVICE)\n",
    "\n"
   ]
  },
  {
   "cell_type": "code",
   "execution_count": null,
   "metadata": {
    "colab": {
     "base_uri": "https://localhost:8080/"
    },
    "executionInfo": {
     "elapsed": 153882,
     "status": "ok",
     "timestamp": 1744967256130,
     "user": {
      "displayName": "ANUBHAV KUMAR SAURAV",
      "userId": "08904774364082183574"
     },
     "user_tz": -330
    },
    "id": "XT2GYaQbt3zm",
    "outputId": "2c2ca00d-9807-4c6a-c8c1-cc67e25be477"
   },
   "outputs": [],
   "source": [
    "\n",
    "# Create input messages\n",
    "messages = [\n",
    "    {\n",
    "        \"role\": \"user\",\n",
    "        \"content\": [\n",
    "            {\"type\": \"image\"},\n",
    "            {\"type\": \"text\", \"text\": \"your prompt\"}\n",
    "        ]\n",
    "    },\n",
    "]\n",
    "\n",
    "# Prepare inputs\n",
    "prompt = processor.apply_chat_template(messages, add_generation_prompt=True)\n",
    "inputs = processor(text=prompt, images=[image], return_tensors=\"pt\")\n",
    "inputs = inputs.to(DEVICE)\n",
    "\n",
    "# Generate outputs\n",
    "generated_ids = model.generate(**inputs, max_new_tokens=4096)\n",
    "prompt_length = inputs.input_ids.shape[1]\n",
    "trimmed_generated_ids = generated_ids[:, prompt_length:]\n",
    "doctags = processor.batch_decode(\n",
    "    trimmed_generated_ids,\n",
    "    skip_special_tokens=False,\n",
    ")[0].lstrip()\n",
    "\n",
    "# Populate document\n",
    "doctags_doc = DocTagsDocument.from_doctags_and_image_pairs([doctags], [image])\n",
    "print(doctags)\n",
    "# create a docling document\n",
    "doc = DoclingDocument(name=\"Document\")\n",
    "doc.load_from_doctags(doctags_doc)\n",
    "\n",
    "print(doc.export_to_markdown())"
   ]
  },
  {
   "cell_type": "code",
   "execution_count": null,
   "metadata": {
    "colab": {
     "base_uri": "https://localhost:8080/"
    },
    "executionInfo": {
     "elapsed": 36,
     "status": "ok",
     "timestamp": 1744954307400,
     "user": {
      "displayName": "ANUBHAV KUMAR SAURAV",
      "userId": "08904774364082183574"
     },
     "user_tz": -330
    },
    "id": "VGaDiPXsYBSe",
    "outputId": "018d5f58-3340-49cc-f69f-a73262946ec0"
   },
   "outputs": [
    {
     "name": "stdout",
     "output_type": "stream",
     "text": [
      "\n"
     ]
    }
   ],
   "source": [
    "#parse the input document \n",
    "doc = DoclingDocument(name=\"Document\")\n",
    "doc.load_from_doctags(doctags_doc)\n",
    "\n",
    "print(doc.export_to_markdown())"
   ]
  }
 ],
 "metadata": {
  "accelerator": "GPU",
  "colab": {
   "authorship_tag": "ABX9TyPW+jINE9p6LbZxH3RSFtss",
   "gpuType": "A100",
   "machine_shape": "hm",
   "provenance": []
  },
  "kernelspec": {
   "display_name": "Python 3",
   "name": "python3"
  },
  "language_info": {
   "name": "python"
  }
 },
 "nbformat": 4,
 "nbformat_minor": 0
}
